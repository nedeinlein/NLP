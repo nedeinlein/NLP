{
 "cells": [
  {
   "cell_type": "code",
   "execution_count": 1,
   "metadata": {},
   "outputs": [],
   "source": [
    "import pandas as pd\n",
    "import numpy as np\n",
    "import nltk\n",
    "nltk.download('punkt')"
   ]
  },
  {
   "cell_type": "code",
   "execution_count": 23,
   "metadata": {},
   "outputs": [],
   "source": [
    "def lexical_diversity(text):\n",
    "    return len(set(text))/ len(text)\n",
    "def vocabsize(text):\n",
    "    return len(set(text))"
   ]
  },
  {
   "cell_type": "code",
   "execution_count": 12,
   "metadata": {},
   "outputs": [
    {
     "data": {
      "text/plain": [
       "0.11755199550309163"
      ]
     },
     "execution_count": 12,
     "metadata": {},
     "output_type": "execute_result"
    }
   ],
   "source": [
    "file_content = open(\"C:/Users/nedei/Downloads/The Flying Girl.txt\",encoding=\"utf8\").read()\n",
    "tokens = nltk.word_tokenize(file_content)\n",
    "vocabsize(tokens)\n",
    "lexical_diversity(tokens)"
   ]
  },
  {
   "cell_type": "code",
   "execution_count": 13,
   "metadata": {},
   "outputs": [
    {
     "data": {
      "text/plain": [
       "0.07905011202555513"
      ]
     },
     "execution_count": 13,
     "metadata": {},
     "output_type": "execute_result"
    }
   ],
   "source": [
    "file_content = open(\"C:/Users/nedei/Downloads/Enchanted Castle.txt\",encoding=\"utf8\").read()\n",
    "tokens = nltk.word_tokenize(file_content)\n",
    "vocabsize(tokens)\n",
    "#lexical_diversity(tokens)"
   ]
  },
  {
   "cell_type": "code",
   "execution_count": 27,
   "metadata": {},
   "outputs": [
    {
     "data": {
      "text/plain": [
       "8232"
      ]
     },
     "execution_count": 27,
     "metadata": {},
     "output_type": "execute_result"
    }
   ],
   "source": [
    "file_content = open(\"C:/Users/nedei/Downloads/pride and prejudice.txt\",encoding=\"utf8\").read()\n",
    "tokens = nltk.word_tokenize(file_content)\n",
    "vocabsize(tokens)\n",
    "#lexical_diversity(tokens)"
   ]
  },
  {
   "cell_type": "code",
   "execution_count": 28,
   "metadata": {},
   "outputs": [
    {
     "data": {
      "text/plain": [
       "3880"
      ]
     },
     "execution_count": 28,
     "metadata": {},
     "output_type": "execute_result"
    }
   ],
   "source": [
    "file_content = open(\"C:/Users/nedei/Downloads/Alice in Wonderland.txt\",encoding=\"utf8\").read()\n",
    "tokens = nltk.word_tokenize(file_content)\n",
    "vocabsize(tokens)\n",
    "#lexical_diversity(tokens)"
   ]
  },
  {
   "cell_type": "code",
   "execution_count": 29,
   "metadata": {},
   "outputs": [
    {
     "data": {
      "text/plain": [
       "5400"
      ]
     },
     "execution_count": 29,
     "metadata": {},
     "output_type": "execute_result"
    }
   ],
   "source": [
    "file_content = open(\"C:/Users/nedei/Downloads/Christmas Carol.txt\",encoding=\"utf8\").read()\n",
    "tokens = nltk.word_tokenize(file_content)\n",
    "vocabsize(tokens)\n",
    "#lexical_diversity(tokens)"
   ]
  },
  {
   "cell_type": "code",
   "execution_count": 17,
   "metadata": {},
   "outputs": [
    {
     "data": {
      "text/plain": [
       "0.09857131326176446"
      ]
     },
     "execution_count": 17,
     "metadata": {},
     "output_type": "execute_result"
    }
   ],
   "source": [
    "file_content = open(\"C:/Users/nedei/Downloads/Peter Pan.txt\",encoding=\"utf8\").read()\n",
    "tokens = nltk.word_tokenize(file_content)\n",
    "vocabsize(tokens)\n",
    "lexical_diversity(tokens)"
   ]
  },
  {
   "cell_type": "code",
   "execution_count": 18,
   "metadata": {},
   "outputs": [
    {
     "data": {
      "text/plain": [
       "0.22722837628422202"
      ]
     },
     "execution_count": 18,
     "metadata": {},
     "output_type": "execute_result"
    }
   ],
   "source": [
    "file_content = open(\"C:/Users/nedei/Downloads/Legend of sleepy Hollow.txt\",encoding=\"utf8\").read()\n",
    "tokens = nltk.word_tokenize(file_content)\n",
    "vocabsize(tokens)\n",
    "lexical_diversity(tokens)"
   ]
  },
  {
   "cell_type": "code",
   "execution_count": 31,
   "metadata": {},
   "outputs": [
    {
     "name": "stdout",
     "output_type": "stream",
     "text": [
      "None\n"
     ]
    }
   ],
   "source": []
  },
  {
   "cell_type": "code",
   "execution_count": null,
   "metadata": {},
   "outputs": [],
   "source": []
  }
 ],
 "metadata": {
  "kernelspec": {
   "display_name": "Python 3",
   "language": "python",
   "name": "python3"
  },
  "language_info": {
   "codemirror_mode": {
    "name": "ipython",
    "version": 3
   },
   "file_extension": ".py",
   "mimetype": "text/x-python",
   "name": "python",
   "nbconvert_exporter": "python",
   "pygments_lexer": "ipython3",
   "version": "3.8.3"
  }
 },
 "nbformat": 4,
 "nbformat_minor": 4
}
