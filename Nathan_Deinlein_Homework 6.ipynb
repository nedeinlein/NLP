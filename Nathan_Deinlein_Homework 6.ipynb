{
 "cells": [
  {
   "cell_type": "markdown",
   "metadata": {},
   "source": [
    "### Homework 6\n",
    "Nathan Deinlein"
   ]
  },
  {
   "cell_type": "code",
   "execution_count": 1,
   "metadata": {},
   "outputs": [],
   "source": [
    "#imports\n",
    "import math\n",
    "import re\n",
    "from collections import Counter\n",
    "import itertools\n",
    "import pandas as pd\n",
    "pd.set_option('display.max_columns', None)"
   ]
  },
  {
   "cell_type": "markdown",
   "metadata": {},
   "source": [
    "### 1.\tEvaluate text similarity of Amazon book search results by doing the following:"
   ]
  },
  {
   "cell_type": "markdown",
   "metadata": {},
   "source": [
    "#### a.\tDo a book search on Amazon via the search box. Manually copy the full book title (including subtitle) of each of the top 24 books listed in the first two pages of search results. \n"
   ]
  },
  {
   "cell_type": "code",
   "execution_count": 2,
   "metadata": {},
   "outputs": [
    {
     "data": {
      "text/plain": [
       "24"
      ]
     },
     "execution_count": 2,
     "metadata": {},
     "output_type": "execute_result"
    }
   ],
   "source": [
    "#Book title searched - \"the soul of wit gk chesterton\"\n",
    "List_of_Book_Titles = ['The Soul of Wit: G. K. Chesterton on William Shakespeare (Dover Books on Literature & Drama)','The Soul of a Schoolboy by G. K. Chesterton: Super Large Print Edition of the Classic Political Mystery Specially Designed for Low Vision Readers with ... Easy to Read Font (The Man Who Knew Too Much)','Bodies and Souls','Rare Agatha CHRISTIE / Bodies & Souls Fourteen Tales of Worldly and Other-Worldly 1st','**REPRINT** Lockington, W. J. (William J.), d. 1948. The soul of Ireland, by W.J. Lockington, S.J.; with an introduction by G.K. Chesterton. New York, The Macmillan company, 1920.**REPRINT*',\"Chesterton's Gateway: 14 Essays to Get You Hooked on Chesterton\",'The Complete Father Brown Mysteries [Annotated, With Introduction, Rare Additional Material]','St. Thomas Aquinas','The Napoleon of Notting Hill','The Soul of Ireland (Illustrated)','The Man Who Was Thursday, A Nightmare (AmazonClassics Edition)','A Church in Crisis: Pathways Forward','Confessions of a Convert: The Classic Spiritual Autobiography from the Author of \"Lord of the World\"','The Napoleon of Notting Hill illustrated','The soul of Russia',\"The Faith of Christopher Hitchens: The Restless Soul of the World's Most Notorious Atheist\",'Soul Food : Wisdom and Inspiration to Feed Your Spirit','The Scrappy Evangelist: Chesterton and a New Apologetics for Today','50 Masterpieces you have to read before you die vol: 2','The Ball and the Cross',\"The Disciple (God's Word for Today)\",\"The Disciple (God's Word for Today)\",'The Everlasting Man','The Bible: A Book Like No Other']\n",
    "len(List_of_Book_Titles)"
   ]
  },
  {
   "cell_type": "markdown",
   "metadata": {},
   "source": [
    "#### b.\tIn Python, run one of the text-similarity measures covered in this course, e.g., cosine similarity. Compare each of the book titles, pairwise, to every other one. \n"
   ]
  },
  {
   "cell_type": "code",
   "execution_count": 3,
   "metadata": {},
   "outputs": [],
   "source": [
    "WORD = re.compile(r\"\\w+\")\n",
    "\n",
    "\n",
    "def get_cosine(vec1, vec2):\n",
    "    intersection = set(vec1.keys()) & set(vec2.keys())\n",
    "    numerator = sum([vec1[x] * vec2[x] for x in intersection])\n",
    "\n",
    "    sum1 = sum([vec1[x] ** 2 for x in list(vec1.keys())])\n",
    "    sum2 = sum([vec2[x] ** 2 for x in list(vec2.keys())])\n",
    "    denominator = math.sqrt(sum1) * math.sqrt(sum2)\n",
    "\n",
    "    if not denominator:\n",
    "        return 0.0\n",
    "    else:\n",
    "        return float(numerator) / denominator\n",
    "\n",
    "def text_to_vector(text):\n",
    "    words = WORD.findall(text)\n",
    "    return Counter(words)\n",
    "\n",
    "def vectorization(text1,text2):\n",
    "    vector1 = text_to_vector(text1)\n",
    "    vector2 = text_to_vector(text2)\n",
    "    cosine = get_cosine(vector1, vector2)\n",
    "    return(cosine)"
   ]
  },
  {
   "cell_type": "code",
   "execution_count": 4,
   "metadata": {},
   "outputs": [
    {
     "data": {
      "text/html": [
       "<div>\n",
       "<style scoped>\n",
       "    .dataframe tbody tr th:only-of-type {\n",
       "        vertical-align: middle;\n",
       "    }\n",
       "\n",
       "    .dataframe tbody tr th {\n",
       "        vertical-align: top;\n",
       "    }\n",
       "\n",
       "    .dataframe thead th {\n",
       "        text-align: right;\n",
       "    }\n",
       "</style>\n",
       "<table border=\"1\" class=\"dataframe\">\n",
       "  <thead>\n",
       "    <tr style=\"text-align: right;\">\n",
       "      <th></th>\n",
       "      <th>Book1</th>\n",
       "      <th>Book2</th>\n",
       "      <th>Cosine</th>\n",
       "    </tr>\n",
       "  </thead>\n",
       "  <tbody>\n",
       "    <tr>\n",
       "      <th>0</th>\n",
       "      <td>'The Soul of a Schoolboy by G. K. Chesterton: ...</td>\n",
       "      <td>'The Soul of Wit: G. K. Chesterton on William ...</td>\n",
       "      <td>0.310694</td>\n",
       "    </tr>\n",
       "    <tr>\n",
       "      <th>1</th>\n",
       "      <td>'Bodies and Souls'</td>\n",
       "      <td>'The Soul of Wit: G. K. Chesterton on William ...</td>\n",
       "      <td>0.000000</td>\n",
       "    </tr>\n",
       "    <tr>\n",
       "      <th>2</th>\n",
       "      <td>'Rare Agatha CHRISTIE / Bodies &amp; Souls Fourtee...</td>\n",
       "      <td>'The Soul of Wit: G. K. Chesterton on William ...</td>\n",
       "      <td>0.062622</td>\n",
       "    </tr>\n",
       "    <tr>\n",
       "      <th>3</th>\n",
       "      <td>'**REPRINT** Lockington W. J. William J. d. 19...</td>\n",
       "      <td>'The Soul of Wit: G. K. Chesterton on William ...</td>\n",
       "      <td>0.231034</td>\n",
       "    </tr>\n",
       "    <tr>\n",
       "      <th>4</th>\n",
       "      <td>\"Chesterton's Gateway: 14 Essays to Get You Ho...</td>\n",
       "      <td>'The Soul of Wit: G. K. Chesterton on William ...</td>\n",
       "      <td>0.269069</td>\n",
       "    </tr>\n",
       "    <tr>\n",
       "      <th>...</th>\n",
       "      <td>...</td>\n",
       "      <td>...</td>\n",
       "      <td>...</td>\n",
       "    </tr>\n",
       "    <tr>\n",
       "      <th>545</th>\n",
       "      <td>'50 Masterpieces you have to read before you d...</td>\n",
       "      <td>'The Bible: A Book Like No Other'</td>\n",
       "      <td>0.000000</td>\n",
       "    </tr>\n",
       "    <tr>\n",
       "      <th>546</th>\n",
       "      <td>'The Ball and the Cross'</td>\n",
       "      <td>'The Bible: A Book Like No Other'</td>\n",
       "      <td>0.169031</td>\n",
       "    </tr>\n",
       "    <tr>\n",
       "      <th>547</th>\n",
       "      <td>\"The Disciple God's Word for Today\"</td>\n",
       "      <td>'The Bible: A Book Like No Other'</td>\n",
       "      <td>0.142857</td>\n",
       "    </tr>\n",
       "    <tr>\n",
       "      <th>548</th>\n",
       "      <td>\"The Disciple God's Word for Today\"</td>\n",
       "      <td>'The Bible: A Book Like No Other'</td>\n",
       "      <td>0.142857</td>\n",
       "    </tr>\n",
       "    <tr>\n",
       "      <th>549</th>\n",
       "      <td>'The Everlasting Man'</td>\n",
       "      <td>'The Bible: A Book Like No Other'</td>\n",
       "      <td>0.218218</td>\n",
       "    </tr>\n",
       "  </tbody>\n",
       "</table>\n",
       "<p>550 rows × 3 columns</p>\n",
       "</div>"
      ],
      "text/plain": [
       "                                                 Book1  \\\n",
       "0    'The Soul of a Schoolboy by G. K. Chesterton: ...   \n",
       "1                                   'Bodies and Souls'   \n",
       "2    'Rare Agatha CHRISTIE / Bodies & Souls Fourtee...   \n",
       "3    '**REPRINT** Lockington W. J. William J. d. 19...   \n",
       "4    \"Chesterton's Gateway: 14 Essays to Get You Ho...   \n",
       "..                                                 ...   \n",
       "545  '50 Masterpieces you have to read before you d...   \n",
       "546                           'The Ball and the Cross'   \n",
       "547                \"The Disciple God's Word for Today\"   \n",
       "548                \"The Disciple God's Word for Today\"   \n",
       "549                              'The Everlasting Man'   \n",
       "\n",
       "                                                 Book2    Cosine  \n",
       "0    'The Soul of Wit: G. K. Chesterton on William ...  0.310694  \n",
       "1    'The Soul of Wit: G. K. Chesterton on William ...  0.000000  \n",
       "2    'The Soul of Wit: G. K. Chesterton on William ...  0.062622  \n",
       "3    'The Soul of Wit: G. K. Chesterton on William ...  0.231034  \n",
       "4    'The Soul of Wit: G. K. Chesterton on William ...  0.269069  \n",
       "..                                                 ...       ...  \n",
       "545                  'The Bible: A Book Like No Other'  0.000000  \n",
       "546                  'The Bible: A Book Like No Other'  0.169031  \n",
       "547                  'The Bible: A Book Like No Other'  0.142857  \n",
       "548                  'The Bible: A Book Like No Other'  0.142857  \n",
       "549                  'The Bible: A Book Like No Other'  0.218218  \n",
       "\n",
       "[550 rows x 3 columns]"
      ]
     },
     "execution_count": 4,
     "metadata": {},
     "output_type": "execute_result"
    }
   ],
   "source": [
    "result = [(b1, b2) for b1 in List_of_Book_Titles for b2 in List_of_Book_Titles if b1 != b2]\n",
    "columns = ['Book1','Book2','Cosine']\n",
    "df = pd.DataFrame(columns=columns)\n",
    "for x in result:\n",
    "    b1 = str(x[1:])\n",
    "    b2 = str(x[:1])\n",
    "    cosine = vectorization(b1,b2)\n",
    "    vals = [b1,b2,cosine]\n",
    "    df = df.append(pd.DataFrame([vals],columns=['Book1','Book2','Cosine']),ignore_index = True)\n",
    "df['Book1'] = df['Book1'].str.replace(\"\\\\(\", \"\")\n",
    "df['Book1'] = df['Book1'].str.replace(\"\\\\)\", \"\")\n",
    "df['Book1'] = df['Book1'].str.replace(\"\\\\,\", \"\")\n",
    "df['Book2'] = df['Book2'].str.replace(\"\\\\(\", \"\")\n",
    "df['Book2'] = df['Book2'].str.replace(\"\\\\)\", \"\")\n",
    "df['Book2'] = df['Book2'].str.replace(\"\\\\,\", \"\")\n",
    "\n",
    "df"
   ]
  },
  {
   "cell_type": "markdown",
   "metadata": {},
   "source": [
    "c.\tWhich two titles are the most similar to each other? Which are the most dissimilar? Where do they rank, among the first 24 results?"
   ]
  },
  {
   "cell_type": "code",
   "execution_count": 5,
   "metadata": {},
   "outputs": [
    {
     "data": {
      "text/html": [
       "<div>\n",
       "<style scoped>\n",
       "    .dataframe tbody tr th:only-of-type {\n",
       "        vertical-align: middle;\n",
       "    }\n",
       "\n",
       "    .dataframe tbody tr th {\n",
       "        vertical-align: top;\n",
       "    }\n",
       "\n",
       "    .dataframe thead th {\n",
       "        text-align: right;\n",
       "    }\n",
       "</style>\n",
       "<table border=\"1\" class=\"dataframe\">\n",
       "  <thead>\n",
       "    <tr style=\"text-align: right;\">\n",
       "      <th></th>\n",
       "      <th>Book1</th>\n",
       "      <th>Book2</th>\n",
       "      <th>Cosine</th>\n",
       "    </tr>\n",
       "  </thead>\n",
       "  <tbody>\n",
       "    <tr>\n",
       "      <th>196</th>\n",
       "      <td>'The Napoleon of Notting Hill illustrated'</td>\n",
       "      <td>'The Napoleon of Notting Hill'</td>\n",
       "      <td>0.912871</td>\n",
       "    </tr>\n",
       "    <tr>\n",
       "      <th>307</th>\n",
       "      <td>'The Napoleon of Notting Hill'</td>\n",
       "      <td>'The Napoleon of Notting Hill illustrated'</td>\n",
       "      <td>0.912871</td>\n",
       "    </tr>\n",
       "    <tr>\n",
       "      <th>357</th>\n",
       "      <td>'Confessions of a Convert: The Classic Spiritu...</td>\n",
       "      <td>\"The Faith of Christopher Hitchens: The Restle...</td>\n",
       "      <td>0.515122</td>\n",
       "    </tr>\n",
       "    <tr>\n",
       "      <th>290</th>\n",
       "      <td>\"The Faith of Christopher Hitchens: The Restle...</td>\n",
       "      <td>'Confessions of a Convert: The Classic Spiritu...</td>\n",
       "      <td>0.515122</td>\n",
       "    </tr>\n",
       "    <tr>\n",
       "      <th>221</th>\n",
       "      <td>\"The Faith of Christopher Hitchens: The Restle...</td>\n",
       "      <td>'The Soul of Ireland Illustrated'</td>\n",
       "      <td>0.512989</td>\n",
       "    </tr>\n",
       "  </tbody>\n",
       "</table>\n",
       "</div>"
      ],
      "text/plain": [
       "                                                 Book1  \\\n",
       "196         'The Napoleon of Notting Hill illustrated'   \n",
       "307                     'The Napoleon of Notting Hill'   \n",
       "357  'Confessions of a Convert: The Classic Spiritu...   \n",
       "290  \"The Faith of Christopher Hitchens: The Restle...   \n",
       "221  \"The Faith of Christopher Hitchens: The Restle...   \n",
       "\n",
       "                                                 Book2    Cosine  \n",
       "196                     'The Napoleon of Notting Hill'  0.912871  \n",
       "307         'The Napoleon of Notting Hill illustrated'  0.912871  \n",
       "357  \"The Faith of Christopher Hitchens: The Restle...  0.515122  \n",
       "290  'Confessions of a Convert: The Classic Spiritu...  0.515122  \n",
       "221                  'The Soul of Ireland Illustrated'  0.512989  "
      ]
     },
     "execution_count": 5,
     "metadata": {},
     "output_type": "execute_result"
    }
   ],
   "source": [
    "top5 = df.sort_values(by=['Cosine'],ascending=False)\n",
    "top5.head(5)"
   ]
  },
  {
   "cell_type": "code",
   "execution_count": 6,
   "metadata": {},
   "outputs": [
    {
     "data": {
      "text/html": [
       "<div>\n",
       "<style scoped>\n",
       "    .dataframe tbody tr th:only-of-type {\n",
       "        vertical-align: middle;\n",
       "    }\n",
       "\n",
       "    .dataframe tbody tr th {\n",
       "        vertical-align: top;\n",
       "    }\n",
       "\n",
       "    .dataframe thead th {\n",
       "        text-align: right;\n",
       "    }\n",
       "</style>\n",
       "<table border=\"1\" class=\"dataframe\">\n",
       "  <thead>\n",
       "    <tr style=\"text-align: right;\">\n",
       "      <th></th>\n",
       "      <th>Book1</th>\n",
       "      <th>Book2</th>\n",
       "      <th>Cosine</th>\n",
       "    </tr>\n",
       "  </thead>\n",
       "  <tbody>\n",
       "    <tr>\n",
       "      <th>274</th>\n",
       "      <td>'The Everlasting Man'</td>\n",
       "      <td>'A Church in Crisis: Pathways Forward'</td>\n",
       "      <td>0.0</td>\n",
       "    </tr>\n",
       "    <tr>\n",
       "      <th>448</th>\n",
       "      <td>'A Church in Crisis: Pathways Forward'</td>\n",
       "      <td>'The Ball and the Cross'</td>\n",
       "      <td>0.0</td>\n",
       "    </tr>\n",
       "    <tr>\n",
       "      <th>186</th>\n",
       "      <td>'Bodies and Souls'</td>\n",
       "      <td>'The Napoleon of Notting Hill'</td>\n",
       "      <td>0.0</td>\n",
       "    </tr>\n",
       "    <tr>\n",
       "      <th>408</th>\n",
       "      <td>'50 Masterpieces you have to read before you d...</td>\n",
       "      <td>'The Scrappy Evangelist: Chesterton and a New ...</td>\n",
       "      <td>0.0</td>\n",
       "    </tr>\n",
       "    <tr>\n",
       "      <th>189</th>\n",
       "      <td>\"Chesterton's Gateway: 14 Essays to Get You Ho...</td>\n",
       "      <td>'The Napoleon of Notting Hill'</td>\n",
       "      <td>0.0</td>\n",
       "    </tr>\n",
       "  </tbody>\n",
       "</table>\n",
       "</div>"
      ],
      "text/plain": [
       "                                                 Book1  \\\n",
       "274                              'The Everlasting Man'   \n",
       "448             'A Church in Crisis: Pathways Forward'   \n",
       "186                                 'Bodies and Souls'   \n",
       "408  '50 Masterpieces you have to read before you d...   \n",
       "189  \"Chesterton's Gateway: 14 Essays to Get You Ho...   \n",
       "\n",
       "                                                 Book2  Cosine  \n",
       "274             'A Church in Crisis: Pathways Forward'     0.0  \n",
       "448                           'The Ball and the Cross'     0.0  \n",
       "186                     'The Napoleon of Notting Hill'     0.0  \n",
       "408  'The Scrappy Evangelist: Chesterton and a New ...     0.0  \n",
       "189                     'The Napoleon of Notting Hill'     0.0  "
      ]
     },
     "execution_count": 6,
     "metadata": {},
     "output_type": "execute_result"
    }
   ],
   "source": [
    "bottom5 = df.sort_values(by=['Cosine'],ascending=True)\n",
    "bottom5.head()"
   ]
  },
  {
   "cell_type": "markdown",
   "metadata": {},
   "source": [
    "Above you can see that the closest two are \"the Napoleon of Notting Hill\" books. While these two are GK Chesterton books they rank no where near the top of the original search title. The most dissimilar were 'The Everlasting Man, and 'A Church in Crisis: Pathways Forward' These two were also not close to the original search."
   ]
  },
  {
   "cell_type": "markdown",
   "metadata": {},
   "source": [
    "### 2.\tNow evaluate using a major search engine.\n",
    "#### a.\tEnter one of the book titles from question 1a into Google, Bing, or Yahoo!. Copy the capsule of the first organic result and the 20th organic result. Take web results only (i.e., not video results), and skip sponsored results. \n"
   ]
  },
  {
   "cell_type": "code",
   "execution_count": 7,
   "metadata": {},
   "outputs": [],
   "source": [
    "newlist = ['The Soul of Wit: G. K. Chesterton on William Shakespeare (Dover Books on Literature & Drama)','The Soul of Wit: G. K. Chesterton on William Shakespeare (Dover Books on Literature & Drama) Paperback – December 19, 2012 · Kindle $8.76 Read with Our',\"The first one-volume reader of the best of G. K. Chesterton's writing in the full range of genres he mastered. Chesterton was a towering literary figure of\"]"
   ]
  },
  {
   "cell_type": "markdown",
   "metadata": {},
   "source": [
    "#### b.\tRun the same text similarity calculation that you used for question 1b on each of these capsules in comparison to the original query (book title). "
   ]
  },
  {
   "cell_type": "code",
   "execution_count": 8,
   "metadata": {},
   "outputs": [
    {
     "data": {
      "text/html": [
       "<div>\n",
       "<style scoped>\n",
       "    .dataframe tbody tr th:only-of-type {\n",
       "        vertical-align: middle;\n",
       "    }\n",
       "\n",
       "    .dataframe tbody tr th {\n",
       "        vertical-align: top;\n",
       "    }\n",
       "\n",
       "    .dataframe thead th {\n",
       "        text-align: right;\n",
       "    }\n",
       "</style>\n",
       "<table border=\"1\" class=\"dataframe\">\n",
       "  <thead>\n",
       "    <tr style=\"text-align: right;\">\n",
       "      <th></th>\n",
       "      <th>Text1</th>\n",
       "      <th>Text2</th>\n",
       "      <th>Cosine</th>\n",
       "    </tr>\n",
       "  </thead>\n",
       "  <tbody>\n",
       "    <tr>\n",
       "      <th>0</th>\n",
       "      <td>'The Soul of Wit: G. K. Chesterton on William ...</td>\n",
       "      <td>'The Soul of Wit: G. K. Chesterton on William ...</td>\n",
       "      <td>0.793492</td>\n",
       "    </tr>\n",
       "    <tr>\n",
       "      <th>1</th>\n",
       "      <td>\"The first one-volume reader of the best of G....</td>\n",
       "      <td>'The Soul of Wit: G. K. Chesterton on William ...</td>\n",
       "      <td>0.325396</td>\n",
       "    </tr>\n",
       "    <tr>\n",
       "      <th>2</th>\n",
       "      <td>'The Soul of Wit: G. K. Chesterton on William ...</td>\n",
       "      <td>'The Soul of Wit: G. K. Chesterton on William ...</td>\n",
       "      <td>0.793492</td>\n",
       "    </tr>\n",
       "    <tr>\n",
       "      <th>3</th>\n",
       "      <td>\"The first one-volume reader of the best of G....</td>\n",
       "      <td>'The Soul of Wit: G. K. Chesterton on William ...</td>\n",
       "      <td>0.258199</td>\n",
       "    </tr>\n",
       "    <tr>\n",
       "      <th>4</th>\n",
       "      <td>'The Soul of Wit: G. K. Chesterton on William ...</td>\n",
       "      <td>\"The first one-volume reader of the best of G....</td>\n",
       "      <td>0.325396</td>\n",
       "    </tr>\n",
       "    <tr>\n",
       "      <th>5</th>\n",
       "      <td>'The Soul of Wit: G. K. Chesterton on William ...</td>\n",
       "      <td>\"The first one-volume reader of the best of G....</td>\n",
       "      <td>0.258199</td>\n",
       "    </tr>\n",
       "  </tbody>\n",
       "</table>\n",
       "</div>"
      ],
      "text/plain": [
       "                                               Text1  \\\n",
       "0  'The Soul of Wit: G. K. Chesterton on William ...   \n",
       "1  \"The first one-volume reader of the best of G....   \n",
       "2  'The Soul of Wit: G. K. Chesterton on William ...   \n",
       "3  \"The first one-volume reader of the best of G....   \n",
       "4  'The Soul of Wit: G. K. Chesterton on William ...   \n",
       "5  'The Soul of Wit: G. K. Chesterton on William ...   \n",
       "\n",
       "                                               Text2    Cosine  \n",
       "0  'The Soul of Wit: G. K. Chesterton on William ...  0.793492  \n",
       "1  'The Soul of Wit: G. K. Chesterton on William ...  0.325396  \n",
       "2  'The Soul of Wit: G. K. Chesterton on William ...  0.793492  \n",
       "3  'The Soul of Wit: G. K. Chesterton on William ...  0.258199  \n",
       "4  \"The first one-volume reader of the best of G....  0.325396  \n",
       "5  \"The first one-volume reader of the best of G....  0.258199  "
      ]
     },
     "execution_count": 8,
     "metadata": {},
     "output_type": "execute_result"
    }
   ],
   "source": [
    "result = [(b1, b2) for b1 in newlist for b2 in newlist if b1 != b2]\n",
    "columns = ['Text1','Text2','Cosine']\n",
    "df = pd.DataFrame(columns=columns)\n",
    "for x in result:\n",
    "    b1 = str(x[1:])\n",
    "    b2 = str(x[:1])\n",
    "    cosine = vectorization(b1,b2)\n",
    "    vals = [b1,b2,cosine]\n",
    "    df = df.append(pd.DataFrame([vals],columns=['Text1','Text2','Cosine']),ignore_index = True)\n",
    "df['Text1'] = df['Text1'].str.replace(\"\\\\(\", \"\")\n",
    "df['Text1'] = df['Text1'].str.replace(\"\\\\)\", \"\")\n",
    "df['Text1'] = df['Text1'].str.replace(\"\\\\,\", \"\")\n",
    "df['Text2'] = df['Text2'].str.replace(\"\\\\(\", \"\")\n",
    "df['Text2'] = df['Text2'].str.replace(\"\\\\)\", \"\")\n",
    "df['Text2'] = df['Text2'].str.replace(\"\\\\,\", \"\")\n",
    "\n",
    "df"
   ]
  },
  {
   "cell_type": "markdown",
   "metadata": {},
   "source": [
    "#### c.\tWhich one has the highest similarity measure?\n",
    "Submit all of your inputs and outputs and your code for this assignment, along with a brief written explanation of your findings. \n",
    "\n",
    "The first search item was the most relevent as it was the amazon link for the book originally searched. This was interestingly enough not an ad. I found it interesting with both searches that there were not many similar matches. To my knowledge this is a fairly well read book. I'm actually about to start being in a book group that is reading this right now. So the fact that there were not more versions of the book or books similar was surprising to me. I think had I selected a fiction book that the algorithm probably would have come up with more results for both. However, with the google search there seemed to be a lot more relevent data than with the amazon search. Yet again, strange, because this was a book we were searching for in the first place."
   ]
  },
  {
   "cell_type": "code",
   "execution_count": null,
   "metadata": {},
   "outputs": [],
   "source": []
  }
 ],
 "metadata": {
  "kernelspec": {
   "display_name": "Python 3",
   "language": "python",
   "name": "python3"
  },
  "language_info": {
   "codemirror_mode": {
    "name": "ipython",
    "version": 3
   },
   "file_extension": ".py",
   "mimetype": "text/x-python",
   "name": "python",
   "nbconvert_exporter": "python",
   "pygments_lexer": "ipython3",
   "version": "3.8.3"
  }
 },
 "nbformat": 4,
 "nbformat_minor": 4
}
